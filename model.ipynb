{
 "cells": [
  {
   "cell_type": "code",
   "execution_count": 1,
   "metadata": {},
   "outputs": [
    {
     "name": "stderr",
     "output_type": "stream",
     "text": [
      "c:\\miniconda\\envs\\newenv\\lib\\site-packages\\tensorflow_addons\\utils\\tfa_eol_msg.py:23: UserWarning: \n",
      "\n",
      "TensorFlow Addons (TFA) has ended development and introduction of new features.\n",
      "TFA has entered a minimal maintenance and release mode until a planned end of life in May 2024.\n",
      "Please modify downstream libraries to take dependencies from other repositories in our TensorFlow community (e.g. Keras, Keras-CV, and Keras-NLP). \n",
      "\n",
      "For more information see: https://github.com/tensorflow/addons/issues/2807 \n",
      "\n",
      "  warnings.warn(\n"
     ]
    }
   ],
   "source": [
    "import cv2\n",
    "import numpy as np\n",
    "import random\n",
    "import matplotlib.pyplot as plt\n",
    "import pandas as pd\n",
    "\n",
    "from tensorflow.keras.models import Sequential\n",
    "from tensorflow.keras.layers import Conv2D, MaxPooling2D, Flatten, Dense, Dropout\n",
    "from sklearn.model_selection import train_test_split\n",
    "from tensorflow.keras.utils import to_categorical\n",
    "from tensorflow.keras.regularizers import l2\n",
    "from tensorflow.keras.models import load_model\n",
    "import tensorflow_addons as tfa\n"
   ]
  },
  {
   "cell_type": "code",
   "execution_count": 2,
   "metadata": {},
   "outputs": [],
   "source": [
    "def resize_imgs(X):\n",
    "    X_out = []\n",
    "    for img in X:\n",
    "        img = cv2.resize(img,(32,32))\n",
    "        X_out.append(img)\n",
    "    X_out = np.array(X_out)\n",
    "    return X_out"
   ]
  },
  {
   "cell_type": "code",
   "execution_count": 3,
   "metadata": {},
   "outputs": [],
   "source": [
    "def build_model(n_labels):\n",
    "\n",
    "    # initialize model\n",
    "    model = Sequential()\n",
    "\n",
    "    # feature detector\n",
    "    model.add(Conv2D(32, (3, 3), activation='relu',  padding='same', input_shape=(32, 32, 3)))\n",
    "    model.add(Conv2D(32, (3, 3), activation='relu',  padding='same'))\n",
    "    model.add(MaxPooling2D((2, 2)))\n",
    "\n",
    "    model.add(Conv2D(64, (3, 3), activation='relu', padding='same'))\n",
    "    model.add(Conv2D(64, (3, 3), activation='relu', padding='same'))\n",
    "    model.add(MaxPooling2D((2, 2)))\n",
    "\n",
    "    model.add(Conv2D(128, (3, 3), activation='relu', padding='same'))\n",
    "    model.add(Conv2D(128, (3, 3), activation='relu', padding='same'))\n",
    "    model.add(MaxPooling2D((2, 2)))\n",
    "\n",
    "    # classifier\n",
    "    model.add(Flatten())\n",
    "    model.add(Dense(128, activation='relu'))\n",
    "    model.add(Dropout(0.2))\n",
    "\n",
    "    model.add(Dense(128, activation='relu'))\n",
    "    model.add(Dropout(0.2))\n",
    "\n",
    "    model.add(Dense(n_labels, activation='softmax'))\n",
    "\n",
    "    # compiler\n",
    "    model.compile(optimizer='adam',\n",
    "             loss='categorical_crossentropy',\n",
    "             metrics=['accuracy'])\n",
    "\n",
    "    return model"
   ]
  },
  {
   "cell_type": "markdown",
   "metadata": {},
   "source": [
    "use adam optimizer for more accuracy"
   ]
  },
  {
   "cell_type": "code",
   "execution_count": 4,
   "metadata": {},
   "outputs": [],
   "source": [
    "def train_model(model,X_train,y_train,X_test,y_test,n_epochs,batch_size):\n",
    "\n",
    "    h = model.fit(X_train,y_train, epochs=n_epochs, batch_size=batch_size, validation_data=(X_test,y_test))#, verbose=0)\n",
    "\n",
    "    return h"
   ]
  },
  {
   "cell_type": "code",
   "execution_count": 5,
   "metadata": {},
   "outputs": [],
   "source": [
    "def calc_accuracy(model,X,y):\n",
    "\n",
    "    _, accuracy = model.evaluate(X,y)\n",
    "    print('Accuracy value: %f ' % (accuracy*100) )"
   ]
  },
  {
   "cell_type": "code",
   "execution_count": 6,
   "metadata": {},
   "outputs": [
    {
     "name": "stdout",
     "output_type": "stream",
     "text": [
      "(20878, 32, 32, 3) (20878,)\n"
     ]
    }
   ],
   "source": [
    "X_train, y_train = [],[]\n",
    "rows = open(\"/path/to/folder/Train.csv\").read().strip().split(\"\\n\")[1:]\n",
    "random.shuffle(rows)\n",
    "for row in rows:\n",
    "    label, img_path = row.strip().split(\",\")[-2:]\n",
    "    full_img_path = \"/path/to/folder/\" + img_path  # Ensure the path is correct\n",
    "    img = cv2.imread(full_img_path, cv2.IMREAD_UNCHANGED)\n",
    "\n",
    "    if img is not None:\n",
    "        # Resize the image\n",
    "        img_resized = cv2.resize(img, (32,32))\n",
    "        \n",
    "        # If the image is grayscale, convert it to RGB\n",
    "        if img_resized.ndim == 2:\n",
    "            img_resized = cv2.cvtColor(img_resized, cv2.COLOR_GRAY2RGB)\n",
    "        \n",
    "        X_train.append(img_resized)\n",
    "        y_train.append(int(label))\n",
    "\n",
    "X_train, y_train = np.array(X_train), np.array(y_train)\n",
    "print(X_train.shape, y_train.shape)"
   ]
  },
  {
   "cell_type": "code",
   "execution_count": 7,
   "metadata": {},
   "outputs": [
    {
     "name": "stdout",
     "output_type": "stream",
     "text": [
      "(6779, 32, 32, 3) (6779,)\n"
     ]
    }
   ],
   "source": [
    "X_test, y_test = [],[]\n",
    "rows = open(\"/path/to/folder/Test.csv\").read().strip().split(\"\\n\")[1:]\n",
    "random.shuffle(rows)\n",
    "for row in rows:\n",
    "    label, img_path = row.strip().split(\",\")[-2:]\n",
    "    full_img_path = \"/path/to/folder/\" + img_path  # Ensure the path is correct\n",
    "    img = cv2.imread(full_img_path, cv2.IMREAD_UNCHANGED)\n",
    "\n",
    "    if img is not None:\n",
    "        # Resize the image\n",
    "        img_resized = cv2.resize(img, (32,32))\n",
    "        \n",
    "        # If the image is grayscale, convert it to RGB\n",
    "        if img_resized.ndim == 2:\n",
    "            img_resized = cv2.cvtColor(img_resized, cv2.COLOR_GRAY2RGB)\n",
    "        \n",
    "        X_test.append(img_resized)\n",
    "        y_test.append(int(label))\n",
    "\n",
    "X_test, y_test = np.array(X_test), np.array(y_test)\n",
    "print(X_test.shape, y_test.shape)"
   ]
  },
  {
   "cell_type": "code",
   "execution_count": 8,
   "metadata": {},
   "outputs": [
    {
     "data": {
      "image/png": "[encoded data removed]",
      "text/plain": [
       "<Figure size 640x480 with 3 Axes>"
      ]
     },
     "metadata": {},
     "output_type": "display_data"
    },
    {
     "name": "stdout",
     "output_type": "stream",
     "text": [
      "Labels:  1 3 5\n"
     ]
    }
   ],
   "source": [
    "idx = [15,2500,9999]\n",
    "fig,axes = plt.subplots(3)\n",
    "axes[0].imshow(X_train[idx[0]])\n",
    "axes[1].imshow(X_train[idx[1]])\n",
    "axes[2].imshow(X_train[idx[2]])\n",
    "plt.show()\n",
    "\n",
    "print('Labels: ',y_train[idx[0]],y_train[idx[1]],y_train[idx[2]])"
   ]
  },
  {
   "cell_type": "code",
   "execution_count": 9,
   "metadata": {},
   "outputs": [],
   "source": [
    "labels_list = ['Speed limit (20km/h)','Speed limit (30km/h)','Speed limit (50km/h)','Speed limit (60km/h)',\n",
    "                'Speed limit (70km/h)','Speed limit (80km/h)','Speed limit (100km/h)','Speed limit (120km/h)',\n",
    "                'Yield','Stop','No entry','Road work','Pedestrians','Turn right ahead','Turn left ahead',\n",
    "                'Ahead only']"
   ]
  },
  {
   "cell_type": "code",
   "execution_count": 10,
   "metadata": {},
   "outputs": [],
   "source": [
    "n_labels = len(np.unique(y_train))\n",
    "y_train = to_categorical(y_train,n_labels)\n",
    "y_test = to_categorical(y_test,n_labels)\n",
    "\n",
    "X_train = resize_imgs(X_train)\n",
    "X_test = resize_imgs(X_test)\n",
    "\n",
    "X_train = X_train.astype('float32')\n",
    "X_test = X_test.astype('float32')\n",
    "\n",
    "X_train = X_train / 255.0\n",
    "X_test = X_test / 255.0"
   ]
  },
  {
   "cell_type": "code",
   "execution_count": 11,
   "metadata": {},
   "outputs": [],
   "source": [
    "def predict_imgs(path, model_name, X_test, labels_list):\n",
    "    # Load model\n",
    "    model = load_model(path + model_name)\n",
    "\n",
    "    # Ensure the input image is in the correct format\n",
    "    img = cv2.resize(X_test[1000], (32, 32))\n",
    "    img_to_pred = np.expand_dims(img, axis=0)  # Equivalent to img.reshape(1, 32, 32, 3)\n",
    "\n",
    "    # Plot image\n",
    "    plt.imshow(cv2.cvtColor(img, cv2.COLOR_BGR2RGB))  # Convert BGR to RGB for correct plotting\n",
    "    plt.show()\n",
    "\n",
    "    # Predict\n",
    "    predictions = model.predict(img_to_pred)\n",
    "    y_pred = np.argmax(predictions, axis=1)  # Get the index of the max probability\n",
    "    label_pred = labels_list[y_pred[0]]\n",
    "\n",
    "    return label_pred"
   ]
  },
  {
   "cell_type": "code",
   "execution_count": 12,
   "metadata": {},
   "outputs": [],
   "source": [
    "def plot_history(h):\n",
    "\n",
    "    fig = plt.subplots(1)\n",
    "    plt.plot(h.history['accuracy'], label='train accuracy')\n",
    "    plt.plot(h.history['val_accuracy'], label='test accuracy')\n",
    "    plt.title('Classifier CNN evaluation')\n",
    "    plt.legend()\n",
    "    plt.show()"
   ]
  },
  {
   "cell_type": "code",
   "execution_count": 13,
   "metadata": {},
   "outputs": [
    {
     "name": "stdout",
     "output_type": "stream",
     "text": [
      "Epoch 1/10\n",
      "653/653 [==============================] - 18s 26ms/step - loss: 2.1741 - accuracy: 0.2811 - val_loss: 1.5373 - val_accuracy: 0.4495\n",
      "Epoch 2/10\n",
      "653/653 [==============================] - 17s 26ms/step - loss: 1.3522 - accuracy: 0.5142 - val_loss: 1.2182 - val_accuracy: 0.5437\n",
      "Epoch 3/10\n",
      "653/653 [==============================] - 17s 26ms/step - loss: 1.0429 - accuracy: 0.6237 - val_loss: 1.0246 - val_accuracy: 0.6370\n",
      "Epoch 4/10\n",
      "653/653 [==============================] - 20s 31ms/step - loss: 0.7735 - accuracy: 0.7304 - val_loss: 0.7952 - val_accuracy: 0.7334\n",
      "Epoch 5/10\n",
      "653/653 [==============================] - 17s 26ms/step - loss: 0.5827 - accuracy: 0.8045 - val_loss: 0.6778 - val_accuracy: 0.7851\n",
      "Epoch 6/10\n",
      "653/653 [==============================] - 16s 25ms/step - loss: 0.4356 - accuracy: 0.8573 - val_loss: 0.5836 - val_accuracy: 0.8355\n",
      "Epoch 7/10\n",
      "653/653 [==============================] - 17s 25ms/step - loss: 0.3368 - accuracy: 0.8933 - val_loss: 0.5260 - val_accuracy: 0.8584\n",
      "Epoch 8/10\n",
      "653/653 [==============================] - 16s 25ms/step - loss: 0.2667 - accuracy: 0.9137 - val_loss: 0.4842 - val_accuracy: 0.8715\n",
      "Epoch 9/10\n",
      "653/653 [==============================] - 16s 25ms/step - loss: 0.2152 - accuracy: 0.9344 - val_loss: 0.4133 - val_accuracy: 0.8842\n",
      "Epoch 10/10\n",
      "653/653 [==============================] - 16s 25ms/step - loss: 0.1742 - accuracy: 0.9470 - val_loss: 0.4012 - val_accuracy: 0.9028\n",
      "212/212 [==============================] - 2s 9ms/step - loss: 0.4012 - accuracy: 0.9028\n",
      "Accuracy value: 90.278804 \n"
     ]
    },
    {
     "data": {
      "image/png": "[encoded data removed]",
      "text/plain": [
       "<Figure size 640x480 with 1 Axes>"
      ]
     },
     "metadata": {},
     "output_type": "display_data"
    }
   ],
   "source": [
    "model = build_model(len(labels_list))\n",
    "\n",
    "n_epochs = 10\n",
    "batch_size = 32\n",
    "h = train_model(model,X_train,y_train,X_test,y_test,n_epochs,batch_size)\n",
    "\n",
    "calc_accuracy(model,X_test,y_test)\n",
    "\n",
    "plot_history(h)"
   ]
  },
  {
   "cell_type": "code",
   "execution_count": null,
   "metadata": {},
   "outputs": [],
   "source": [
    "model_name = \"cnn_traffic_sign.h5\"\n",
    "path = \"/path/to/folder/\"\n",
    "print(predict_imgs(path,model_name,X_test, labels_list))"
   ]
  }
 ],
 "metadata": {
  "kernelspec": {
   "display_name": "robotics_essentials",
   "language": "python",
   "name": "python3"
  },
  "language_info": {
   "codemirror_mode": {
    "name": "ipython",
    "version": 3
   },
   "file_extension": ".py",
   "mimetype": "text/x-python",
   "name": "python",
   "nbconvert_exporter": "python",
   "pygments_lexer": "ipython3",
   "version": "3.8.18"
  }
 },
 "nbformat": 4,
 "nbformat_minor": 2
}
